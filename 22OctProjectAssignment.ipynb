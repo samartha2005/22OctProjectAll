{
 "cells": [
  {
   "cell_type": "raw",
   "id": "8f87602d-90a3-4b13-8069-482f86f8eb63",
   "metadata": {},
   "source": [
    "1. Build a Flask app that scrapes data from multiple websites and displays it on your site.\n",
    "You can try to scrap websites like youtube , amazon and show data on output pages and deploy it on cloud\n",
    "platform .\n",
    "\n",
    "\n",
    "Github link(for code):- https://github.com/samartha2005/fir_pro\n",
    "Live Project linK:- https://pro-first-14b0.onrender.com"
   ]
  },
  {
   "cell_type": "raw",
   "id": "d0ffea10-c3f0-47f7-869d-5d1b1975a355",
   "metadata": {},
   "source": [
    "2. Create a Flask app that consumes data from external APIs and displays it to users.\n",
    "Try to find an public API which will give you a data and based on that call it and deploy it on cloud platform\n",
    "\n",
    "\n",
    "Github link(for code):-   https://github.com/samartha2005/22OctPro2\n",
    "Live Project linK:-  https://data-from-external-api.onrender.com"
   ]
  },
  {
   "cell_type": "raw",
   "id": "ab818cc3-7d12-4bb0-b2e7-a63d8222757b",
   "metadata": {},
   "source": [
    "3. Implement OAuth2 authentication to allow users to log in using their Google or Facebook accounts.\n",
    "\n",
    "\n",
    "Github link(for code):-  https://github.com/samartha2005/3pro\n",
    "Live Project linK:-https://oauth2-flask-3project.onrender.com"
   ]
  },
  {
   "cell_type": "raw",
   "id": "9a6b5ba7-7715-404f-9bd5-b384e37d07d4",
   "metadata": {},
   "source": [
    "4. Develop a recommendation system using Flask that suggests content to users based on their preferences.\n",
    "\n",
    "Github link(for code):-  https://github.com/samartha2005/4pro\n",
    "Live Project linK:-  https://recommendation-system-new.onrender.com"
   ]
  }
 ],
 "metadata": {
  "kernelspec": {
   "display_name": "Python 3 (ipykernel)",
   "language": "python",
   "name": "python3"
  },
  "language_info": {
   "codemirror_mode": {
    "name": "ipython",
    "version": 3
   },
   "file_extension": ".py",
   "mimetype": "text/x-python",
   "name": "python",
   "nbconvert_exporter": "python",
   "pygments_lexer": "ipython3",
   "version": "3.10.8"
  }
 },
 "nbformat": 4,
 "nbformat_minor": 5
}
